{
 "cells": [
  {
   "cell_type": "markdown",
   "id": "e24e400b",
   "metadata": {},
   "source": [
    "# Steps to follow \n",
    "1. Data cleaning\n",
    "2. EDA\n",
    "3. Feature Engineering"
   ]
  },
  {
   "cell_type": "code",
   "execution_count": 3,
   "id": "39eea06d",
   "metadata": {},
   "outputs": [],
   "source": [
    "import pandas as pd\n",
    "import numpy as np\n",
    "import matplotlib as plt \n",
    "import seaborn as sns\n",
    "import warnings\n",
    "warnings.filterwarnings(\"ignore\")\n",
    "%matplotlib inline"
   ]
  },
  {
   "cell_type": "code",
   "execution_count": 44,
   "id": "27b6ff7c",
   "metadata": {},
   "outputs": [],
   "source": [
    "df = pd.read_csv('https://raw.githubusercontent.com/krishnaik06/playstore-Dataset/main/googleplaystore.csv')\n",
    "df.head()\n",
    "df_copy= df.copy()"
   ]
  },
  {
   "cell_type": "code",
   "execution_count": 38,
   "id": "2bab91fe",
   "metadata": {},
   "outputs": [
    {
     "data": {
      "text/plain": [
       "(10841, 13)"
      ]
     },
     "execution_count": 38,
     "metadata": {},
     "output_type": "execute_result"
    }
   ],
   "source": [
    "df.shape\n"
   ]
  },
  {
   "cell_type": "code",
   "execution_count": 6,
   "id": "c2f8180f",
   "metadata": {},
   "outputs": [
    {
     "name": "stdout",
     "output_type": "stream",
     "text": [
      "<class 'pandas.core.frame.DataFrame'>\n",
      "RangeIndex: 10841 entries, 0 to 10840\n",
      "Data columns (total 13 columns):\n",
      " #   Column          Non-Null Count  Dtype  \n",
      "---  ------          --------------  -----  \n",
      " 0   App             10841 non-null  object \n",
      " 1   Category        10841 non-null  object \n",
      " 2   Rating          9367 non-null   float64\n",
      " 3   Reviews         10841 non-null  object \n",
      " 4   Size            10841 non-null  object \n",
      " 5   Installs        10841 non-null  object \n",
      " 6   Type            10840 non-null  object \n",
      " 7   Price           10841 non-null  object \n",
      " 8   Content Rating  10840 non-null  object \n",
      " 9   Genres          10841 non-null  object \n",
      " 10  Last Updated    10841 non-null  object \n",
      " 11  Current Ver     10833 non-null  object \n",
      " 12  Android Ver     10838 non-null  object \n",
      "dtypes: float64(1), object(12)\n",
      "memory usage: 1.1+ MB\n"
     ]
    }
   ],
   "source": [
    "df.info()"
   ]
  },
  {
   "cell_type": "code",
   "execution_count": 7,
   "id": "3b24b48b",
   "metadata": {},
   "outputs": [
    {
     "data": {
      "text/html": [
       "<div>\n",
       "<style scoped>\n",
       "    .dataframe tbody tr th:only-of-type {\n",
       "        vertical-align: middle;\n",
       "    }\n",
       "\n",
       "    .dataframe tbody tr th {\n",
       "        vertical-align: top;\n",
       "    }\n",
       "\n",
       "    .dataframe thead th {\n",
       "        text-align: right;\n",
       "    }\n",
       "</style>\n",
       "<table border=\"1\" class=\"dataframe\">\n",
       "  <thead>\n",
       "    <tr style=\"text-align: right;\">\n",
       "      <th></th>\n",
       "      <th>Rating</th>\n",
       "    </tr>\n",
       "  </thead>\n",
       "  <tbody>\n",
       "    <tr>\n",
       "      <th>count</th>\n",
       "      <td>9367.000000</td>\n",
       "    </tr>\n",
       "    <tr>\n",
       "      <th>mean</th>\n",
       "      <td>4.193338</td>\n",
       "    </tr>\n",
       "    <tr>\n",
       "      <th>std</th>\n",
       "      <td>0.537431</td>\n",
       "    </tr>\n",
       "    <tr>\n",
       "      <th>min</th>\n",
       "      <td>1.000000</td>\n",
       "    </tr>\n",
       "    <tr>\n",
       "      <th>25%</th>\n",
       "      <td>4.000000</td>\n",
       "    </tr>\n",
       "    <tr>\n",
       "      <th>50%</th>\n",
       "      <td>4.300000</td>\n",
       "    </tr>\n",
       "    <tr>\n",
       "      <th>75%</th>\n",
       "      <td>4.500000</td>\n",
       "    </tr>\n",
       "    <tr>\n",
       "      <th>max</th>\n",
       "      <td>19.000000</td>\n",
       "    </tr>\n",
       "  </tbody>\n",
       "</table>\n",
       "</div>"
      ],
      "text/plain": [
       "            Rating\n",
       "count  9367.000000\n",
       "mean      4.193338\n",
       "std       0.537431\n",
       "min       1.000000\n",
       "25%       4.000000\n",
       "50%       4.300000\n",
       "75%       4.500000\n",
       "max      19.000000"
      ]
     },
     "execution_count": 7,
     "metadata": {},
     "output_type": "execute_result"
    }
   ],
   "source": [
    "df.describe()"
   ]
  },
  {
   "cell_type": "code",
   "execution_count": 8,
   "id": "eda60aa7",
   "metadata": {},
   "outputs": [
    {
     "data": {
      "text/plain": [
       "App                  0\n",
       "Category             0\n",
       "Rating            1474\n",
       "Reviews              0\n",
       "Size                 0\n",
       "Installs             0\n",
       "Type                 1\n",
       "Price                0\n",
       "Content Rating       1\n",
       "Genres               0\n",
       "Last Updated         0\n",
       "Current Ver          8\n",
       "Android Ver          3\n",
       "dtype: int64"
      ]
     },
     "execution_count": 8,
     "metadata": {},
     "output_type": "execute_result"
    }
   ],
   "source": [
    "# We will start off with checking of null vlaues\n",
    "df.isnull().sum()"
   ]
  },
  {
   "cell_type": "markdown",
   "id": "74894ea6",
   "metadata": {},
   "source": [
    "### Insights and observation \n",
    "Dataset has missing vlaues"
   ]
  },
  {
   "cell_type": "code",
   "execution_count": 45,
   "id": "afa5330d",
   "metadata": {},
   "outputs": [],
   "source": [
    "#Check if all the values in reviews are numeric\n",
    "df['Reviews'].unique() \n",
    "# String format - now to find out if there are any numerical values\n",
    "df['Reviews'].str.isnumeric().sum()\n",
    "# #Check if all the values in reviews are numeric\n",
    "df['Reviews'].unique() \n",
    "# String format - now to find out if there are any numerical values\n",
    "df['Reviews'].str.isnumeric().sum()\n",
    "# np.int64(10840) - 1 column is not in the numeric format\n",
    "df[~df['Reviews'].str.isnumeric()]\n",
    "# Here the reviews is 3M now we need to covnert this 3M into a numeric value \n",
    "def convert_reviews(val):\n",
    "    if isinstance(val, str):\n",
    "        val = val.strip()\n",
    "        if val.endswith('M'):\n",
    "            return float(val[:-1]) * 1_000_000\n",
    "        elif val.endswith('K'):\n",
    "            return float(val[:-1]) * 1_000\n",
    "        elif val.isnumeric():\n",
    "            return int(val)\n",
    "    return None  # or np.nan if you prefer\n",
    "\n",
    "df_copy['Reviews'] = df_copy['Reviews'].apply(convert_reviews)"
   ]
  },
  {
   "cell_type": "code",
   "execution_count": null,
   "id": "fda74de6",
   "metadata": {},
   "outputs": [],
   "source": [
    "# Another way to convert the M and K to numbers is \n",
    "# df['Size'].str.replace('M', '000000') - but this only works if there is no decimal then 2.7M would become 2.7000000 which is 2.7 only\n",
    "def convert_size(val):\n",
    "    if isinstance(val,str):\n",
    "        if val.endswith('M'):\n",
    "            return float(val[:-1])*1000000\n",
    "        elif val.endswith('k'):\n",
    "            return float(val[:-1])*1000\n",
    "        else:\n",
    "            print(val)\n",
    "            try:\n",
    "                return float(val)\n",
    "            except: # incase ther is a string like \"Varies with device\"\n",
    "                return np.nan\n",
    "    return None\n",
    "\n",
    "df_copy['Size']= df_copy['Size'].apply(convert_size)"
   ]
  },
  {
   "cell_type": "code",
   "execution_count": null,
   "id": "50ba6ee1",
   "metadata": {},
   "outputs": [
    {
     "data": {
      "text/html": [
       "<div>\n",
       "<style scoped>\n",
       "    .dataframe tbody tr th:only-of-type {\n",
       "        vertical-align: middle;\n",
       "    }\n",
       "\n",
       "    .dataframe tbody tr th {\n",
       "        vertical-align: top;\n",
       "    }\n",
       "\n",
       "    .dataframe thead th {\n",
       "        text-align: right;\n",
       "    }\n",
       "</style>\n",
       "<table border=\"1\" class=\"dataframe\">\n",
       "  <thead>\n",
       "    <tr style=\"text-align: right;\">\n",
       "      <th></th>\n",
       "      <th>Rating</th>\n",
       "      <th>Reviews</th>\n",
       "      <th>Size</th>\n",
       "      <th>Installs</th>\n",
       "    </tr>\n",
       "  </thead>\n",
       "  <tbody>\n",
       "    <tr>\n",
       "      <th>count</th>\n",
       "      <td>9367.000000</td>\n",
       "      <td>1.084100e+04</td>\n",
       "      <td>9.145000e+03</td>\n",
       "      <td>1.084100e+04</td>\n",
       "    </tr>\n",
       "    <tr>\n",
       "      <th>mean</th>\n",
       "      <td>4.193338</td>\n",
       "      <td>4.443887e+05</td>\n",
       "      <td>2.151653e+07</td>\n",
       "      <td>1.546291e+07</td>\n",
       "    </tr>\n",
       "    <tr>\n",
       "      <th>std</th>\n",
       "      <td>0.537431</td>\n",
       "      <td>2.927728e+06</td>\n",
       "      <td>2.258875e+07</td>\n",
       "      <td>8.502557e+07</td>\n",
       "    </tr>\n",
       "    <tr>\n",
       "      <th>min</th>\n",
       "      <td>1.000000</td>\n",
       "      <td>0.000000e+00</td>\n",
       "      <td>8.500000e+03</td>\n",
       "      <td>0.000000e+00</td>\n",
       "    </tr>\n",
       "    <tr>\n",
       "      <th>25%</th>\n",
       "      <td>4.000000</td>\n",
       "      <td>3.800000e+01</td>\n",
       "      <td>4.900000e+06</td>\n",
       "      <td>1.000000e+03</td>\n",
       "    </tr>\n",
       "    <tr>\n",
       "      <th>50%</th>\n",
       "      <td>4.300000</td>\n",
       "      <td>2.094000e+03</td>\n",
       "      <td>1.300000e+07</td>\n",
       "      <td>1.000000e+05</td>\n",
       "    </tr>\n",
       "    <tr>\n",
       "      <th>75%</th>\n",
       "      <td>4.500000</td>\n",
       "      <td>5.479800e+04</td>\n",
       "      <td>3.000000e+07</td>\n",
       "      <td>5.000000e+06</td>\n",
       "    </tr>\n",
       "    <tr>\n",
       "      <th>max</th>\n",
       "      <td>19.000000</td>\n",
       "      <td>7.815831e+07</td>\n",
       "      <td>1.000000e+08</td>\n",
       "      <td>1.000000e+09</td>\n",
       "    </tr>\n",
       "  </tbody>\n",
       "</table>\n",
       "</div>"
      ],
      "text/plain": [
       "            Rating       Reviews          Size      Installs\n",
       "count  9367.000000  1.084100e+04  9.145000e+03  1.084100e+04\n",
       "mean      4.193338  4.443887e+05  2.151653e+07  1.546291e+07\n",
       "std       0.537431  2.927728e+06  2.258875e+07  8.502557e+07\n",
       "min       1.000000  0.000000e+00  8.500000e+03  0.000000e+00\n",
       "25%       4.000000  3.800000e+01  4.900000e+06  1.000000e+03\n",
       "50%       4.300000  2.094000e+03  1.300000e+07  1.000000e+05\n",
       "75%       4.500000  5.479800e+04  3.000000e+07  5.000000e+06\n",
       "max      19.000000  7.815831e+07  1.000000e+08  1.000000e+09"
      ]
     },
     "execution_count": 59,
     "metadata": {},
     "output_type": "execute_result"
    }
   ],
   "source": [
    "df_copy['Installs'].unique() # This has + signs eg 2M+\n",
    "df_copy['Installs'] =df_copy['Installs'].str.replace('+','')\n",
    "df_copy['Installs'] = df_copy['Installs'].str.replace('Free','0')\n",
    "df_copy['Installs'] = df_copy['Installs'].str.replace(',','')\n",
    "df_copy['Installs']= df_copy['Installs'].astype('float')\n",
    "df_copy['Installs'].unique() # This has + signs eg 2M+\n",
    "df_copy.describe()"
   ]
  },
  {
   "cell_type": "code",
   "execution_count": null,
   "id": "681e3e72",
   "metadata": {},
   "outputs": [],
   "source": [
    "df_copy['Price'].unique() # This has $ signs\n",
    "df_copy['Price'] =df_copy['Price'].str.replace('$','')\n",
    "df_copy['Price'] = df_copy['Price'].str.replace('Everyone','0')\n",
    "df_copy['Price']= df_copy['Price'].astype('float')\n",
    "df_copy['Price'].unique() "
   ]
  },
  {
   "cell_type": "code",
   "execution_count": 68,
   "id": "c0f109e4",
   "metadata": {},
   "outputs": [
    {
     "data": {
      "text/plain": [
       "array(['January 7, 2018', 'January 15, 2018', 'August 1, 2018', ...,\n",
       "       'January 20, 2014', 'February 16, 2014', 'March 23, 2014'],\n",
       "      shape=(1378,), dtype=object)"
      ]
     },
     "execution_count": 68,
     "metadata": {},
     "output_type": "execute_result"
    }
   ],
   "source": [
    "df_copy['Last Updated'].unique()"
   ]
  },
  {
   "cell_type": "code",
   "execution_count": null,
   "id": "f79e3cf3",
   "metadata": {},
   "outputs": [],
   "source": [
    "df_copy['Last Updated'] = pd.to_datetime(df_copy['Last Updated'], errors='coerce')\n",
    "df_copy = df_copy[df_copy['Last Updated'].notnull()]\n",
    "df_copy['Day'] = df_copy['Last Updated'].dt.day\n",
    "df_copy['Month'] = df_copy['Last Updated'].dt.month\n",
    "df_copy['Year'] = df_copy['Last Updated'].dt.year\n"
   ]
  },
  {
   "cell_type": "code",
   "execution_count": 75,
   "id": "fc816ad5",
   "metadata": {},
   "outputs": [],
   "source": [
    "df_copy.to_csv('data/google.csv')"
   ]
  },
  {
   "cell_type": "code",
   "execution_count": null,
   "id": "5fb074db",
   "metadata": {},
   "outputs": [],
   "source": []
  },
  {
   "cell_type": "code",
   "execution_count": null,
   "id": "b9870c63",
   "metadata": {},
   "outputs": [],
   "source": []
  },
  {
   "cell_type": "code",
   "execution_count": null,
   "id": "ecf01362",
   "metadata": {},
   "outputs": [],
   "source": []
  }
 ],
 "metadata": {
  "kernelspec": {
   "display_name": "venv",
   "language": "python",
   "name": "python3"
  },
  "language_info": {
   "codemirror_mode": {
    "name": "ipython",
    "version": 3
   },
   "file_extension": ".py",
   "mimetype": "text/x-python",
   "name": "python",
   "nbconvert_exporter": "python",
   "pygments_lexer": "ipython3",
   "version": "3.13.2"
  }
 },
 "nbformat": 4,
 "nbformat_minor": 5
}
